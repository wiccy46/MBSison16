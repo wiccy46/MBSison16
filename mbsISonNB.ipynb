{
 "cells": [
  {
   "cell_type": "code",
   "execution_count": 1,
   "metadata": {
    "collapsed": false
   },
   "outputs": [
    {
     "name": "stdout",
     "output_type": "stream",
     "text": [
      "Populating the interactive namespace from numpy and matplotlib\n"
     ]
    },
    {
     "name": "stderr",
     "output_type": "stream",
     "text": [
      "WARNING: pylab import has clobbered these variables: ['random']\n",
      "`%matplotlib` prevents importing * from pylab and numpy\n"
     ]
    },
    {
     "data": {
      "text/plain": [
       "<pyolib.server.Server at 0x113adb250>"
      ]
     },
     "execution_count": 1,
     "metadata": {},
     "output_type": "execute_result"
    }
   ],
   "source": [
    "%load_ext Cython \n",
    "import numpy as np\n",
    "import random, time\n",
    "from multiprocessing import Pool, freeze_support\n",
    "from io import StringIO\n",
    "import itertools,time\n",
    "import matplotlib.widgets as widgets\n",
    "%pylab inline\n",
    "def linlin(x, smi, sma, dmi, dma): return (x-smi)/(sma-smi)*(dma-dmi)+dmi\n",
    "from threading import Thread\n",
    "\n",
    "# Audio server\n",
    "from pyo import *\n",
    "# Is 1024 too large for the bufferSize in this case. \n",
    "fs = 44100/2\n",
    "s = Server(sr=fs, nchnls=2, buffersize=2048, duplex=0).boot()\n",
    "s.start()\n",
    "# s.stop()"
   ]
  },
  {
   "cell_type": "code",
   "execution_count": 5,
   "metadata": {
    "collapsed": true
   },
   "outputs": [],
   "source": [
    "# Class for playing the audio \n",
    "class playAudioNoThread:       \n",
    "    def __init__(self, sampling_rate, dataLen = 1.0,  play_back_rate = 1.0, bs = 44100, amp = 0.5):\n",
    "#         audioVec = np.zeros(bufferSize)\n",
    "        self.sf = sampling_rate\n",
    "        self.rate = play_back_rate\n",
    "        self.amp = amp\n",
    "        self.bs = int(bs)\n",
    "        self.dataLen = dataLen\n",
    "        self.t = DataTable(size =self.bs, chnls=1)  # Data table\n",
    "        self.c = Osc(table=self.t, freq=[ 1.0/self.dataLen * self.rate, \\\n",
    "                                         1.0 / self.dataLen * self.rate],\\\n",
    "                     mul=self.amp).out() # Table playback. \n",
    "\n",
    "    def looping(self, audioVec):\n",
    "        # Continous mode\n",
    "        self.t.replace(list(audioVec))\n",
    "        self.c.setTable(self.t)\n",
    "    \n",
    "    def single(self, audioVec):\n",
    "        # Currently no add silence. Need to do so. \n",
    "        self.t = DataTable(size =self.bs, chnls=1)  # Data table\n",
    "        self.c = Osc(table=self.t, freq=[ 1.0/self.dataLen * self.rate, \\\n",
    "                                         1.0 / self.dataLen * self.rate],\\\n",
    "                     mul=self.amp).out() # Table playback. \n",
    "        self.t.replace(list(audioVec))\n",
    "        self.c.setTable(self.t)\n",
    "        time.sleep(self.dataLen/self.rate)\n",
    "        self.c.stop()\n",
    "        \n",
    "    def stopAudio(self):\n",
    "        self.c.stop()\n",
    "        \n",
    "# Create a rigid window to ramp on/off the audio vector to prevent clipping. \n",
    "# But I still hear clipping. \n",
    "def makeWindow(s, rampUp = 0.02, rampDown = 0.02):\n",
    "    w = np.append(np.linspace(0, 1.0, num = int(s * rampUp)), \\\n",
    "      np.ones(s - int(s * rampUp)- int(s * rampDown)))\n",
    "    w = np.append(w, np.linspace(1.0, 0, num = int(s * rampDown)))\n",
    "    return w\n",
    "\n",
    "# Add some silence to the end\n",
    "def addSilence(av, bs = 5000):\n",
    "    return np.append(av, np.zeros(0.2 * bs))"
   ]
  },
  {
   "cell_type": "code",
   "execution_count": 6,
   "metadata": {
    "collapsed": false
   },
   "outputs": [],
   "source": [
    "\n",
    "# Turn list into integer\n",
    "def list2int(numbers):\n",
    "    return int(''.join([ \"%d\"%x for x in numbers]))\n",
    "\n",
    "# Slider update function, for the interaction\n",
    "def sliderUpdate(val):\n",
    "    global dt, resistant\n",
    "    sigma = ssigma.val\n",
    "    exp_table = updateExpTable(sigma, delta_dis)\n",
    "    dt = sdt.val\n",
    "    resistant = sresistant.val\n",
    "    \n",
    "def sigmaUpdate(val):\n",
    "    global sigma, exp_table, delta_dis\n",
    "    sigma = ssigma.val\n",
    "    exp_table = updateExpTable(sigma, delta_dis)\n",
    "    \n",
    "# Create an exponential table for the lookup calculation of potential. \n",
    "def createExpTable( dim, sigma, exp_resolution = 1000000 ):\n",
    "    delta_dis = np.linspace(0.0, dim, num = exp_resolution) # Range of distance difference. \n",
    "    tab = updateExpTable(sigma, delta_dis)\n",
    "    return tab, dim\n",
    "\n",
    "def updateExpTable(sigma, delta_dis):\n",
    "    sigma2 = sigma * sigma\n",
    "    return exp(- delta_dis/sigma2)/sigma2"
   ]
  },
  {
   "cell_type": "code",
   "execution_count": null,
   "metadata": {
    "collapsed": true
   },
   "outputs": [],
   "source": []
  }
 ],
 "metadata": {
  "kernelspec": {
   "display_name": "Python 2",
   "language": "python",
   "name": "python2"
  },
  "language_info": {
   "codemirror_mode": {
    "name": "ipython",
    "version": 2
   },
   "file_extension": ".py",
   "mimetype": "text/x-python",
   "name": "python",
   "nbconvert_exporter": "python",
   "pygments_lexer": "ipython2",
   "version": "2.7.6"
  }
 },
 "nbformat": 4,
 "nbformat_minor": 0
}
