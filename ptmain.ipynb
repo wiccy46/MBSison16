{
 "cells": [
  {
   "cell_type": "code",
   "execution_count": 1,
   "metadata": {
    "collapsed": false
   },
   "outputs": [
    {
     "name": "stderr",
     "output_type": "stream",
     "text": [
      "/usr/local/lib/python2.7/site-packages/matplotlib/font_manager.py:273: UserWarning: Matplotlib is building the font cache using fc-list. This may take a moment.\n",
      "  warnings.warn('Matplotlib is building the font cache using fc-list. This may take a moment.')\n"
     ]
    },
    {
     "name": "stdout",
     "output_type": "stream",
     "text": [
      "Populating the interactive namespace from numpy and matplotlib\n"
     ]
    },
    {
     "name": "stderr",
     "output_type": "stream",
     "text": [
      "/usr/local/lib/python2.7/site-packages/IPython/core/magics/pylab.py:161: UserWarning: pylab import has clobbered these variables: ['random']\n",
      "`%matplotlib` prevents importing * from pylab and numpy\n",
      "  \"\\n`%matplotlib` prevents importing * from pylab and numpy\"\n"
     ]
    },
    {
     "data": {
      "text/plain": [
       "< Instance of FIFOPlayer class >"
      ]
     },
     "execution_count": 1,
     "metadata": {},
     "output_type": "execute_result"
    }
   ],
   "source": [
    "%load_ext Cython \n",
    "import numpy as np\n",
    "import random, time\n",
    "from io import StringIO\n",
    "import time\n",
    "import threading \n",
    "import matplotlib.widgets as widgets\n",
    "%pylab inline\n",
    "def linlin(x, smi, sma, dmi, dma): return (x-smi)/(sma-smi)*(dma-dmi)+dmi\n",
    "from threading import Thread\n",
    "# from pyo import *\n",
    "# Audio server\n",
    "import pyo64 as pyo\n",
    "# Is 1024 too large for the bufferSize in this case. \n",
    "fs = 44100/2\n",
    "s = pyo.Server(sr=fs, nchnls=2, buffersize=1024, duplex=0).boot()\n",
    "s.start()\n",
    "fifo = pyo.FIFOPlayer(maxsize=200, mul=[.3,.3])\n",
    "mixer = pyo.Mixer()\n",
    "mixer.addInput(0, fifo);mixer.setAmp(0,0,1)\n",
    "mixer.addInput(1, fifo);mixer.setAmp(1,1,1)\n",
    "mixer.out()\n",
    "fifo.out()\n",
    "\n"
   ]
  },
  {
   "cell_type": "code",
   "execution_count": 2,
   "metadata": {
    "collapsed": true
   },
   "outputs": [],
   "source": [
    "class playAudioNoThread:       \n",
    "    def __init__(self, sampling_rate, dataLen = 1.0,  play_back_rate = 1.0, bs = 44100, amp = 0.5):\n",
    "#         audioVec = np.zeros(bufferSize)\n",
    "        self.sf = sampling_rate\n",
    "        self.rate = play_back_rate\n",
    "        self.amp = amp\n",
    "        self.bs = int(bs)\n",
    "        self.dataLen = dataLen\n",
    "        self.t = DataTable(size =self.bs, chnls=1)  # Data table\n",
    "        self.c = Osc(table=self.t, freq=[ 1.0/self.dataLen * self.rate, \\\n",
    "                                         1.0 / self.dataLen * self.rate],\\\n",
    "                     mul=self.amp).out() # Table playback. \n",
    "\n",
    "    def looping(self, audioVec):\n",
    "        # Continous mode\n",
    "        self.t.replace(list(audioVec))\n",
    "        self.c.setTable(self.t)\n",
    "    \n",
    "    def single(self, audioVec):\n",
    "        # Currently no add silence. Need to do so. \n",
    "        self.t = DataTable(size =self.bs, chnls=1)  # Data table\n",
    "        self.c = Osc(table=self.t, freq=[ 1.0/self.dataLen * self.rate, \\\n",
    "                                         1.0 / self.dataLen * self.rate],\\\n",
    "                     mul=self.amp).out() # Table playback. \n",
    "        self.t.replace(list(audioVec))\n",
    "        self.c.setTable(self.t)\n",
    "        time.sleep(self.dataLen/self.rate)\n",
    "        self.c.stop()\n",
    "        \n",
    "    def stopAudio(self):\n",
    "        self.c.stop()"
   ]
  },
  {
   "cell_type": "code",
   "execution_count": 3,
   "metadata": {
    "collapsed": true
   },
   "outputs": [],
   "source": [
    "# Create a rigid window to ramp on/off the audio vector to prevent clipping. \n",
    "# But I still hear clipping. \n",
    "def makeWindow(s, rampUp = 0.02, rampDown = 0.02):\n",
    "    w = np.append(np.linspace(0, 1.0, num = int(s * rampUp)), \\\n",
    "      np.ones(s - int(s * rampUp)- int(s * rampDown)))\n",
    "    w = np.append(w, np.linspace(1.0, 0, num = int(s * rampDown)))\n",
    "    return w\n",
    "\n",
    "# Turn list into integer\n",
    "def list2int(numbers):\n",
    "    return int(''.join([ \"%d\"%x for x in numbers]))\n",
    "\n",
    "# Add some silence to the end\n",
    "def addSilence(av, bs = 5000):\n",
    "    return np.append(av, np.zeros(0.2 * bs))\n",
    "\n",
    "# Slider update function, for the interaction\n",
    "def sliderUpdate(val):\n",
    "    global dt, resistant\n",
    "    sigma = ssigma.val\n",
    "    exp_table = updateExpTable(sigma, delta_dis)\n",
    "    dt = sdt.val\n",
    "    resistant = sresistant.val\n",
    "    \n",
    "def sigmaUpdate(val):\n",
    "    global sigma, exp_table, delta_dis\n",
    "    sigma = ssigma.val\n",
    "    exp_table = updateExpTable(sigma, delta_dis)\n",
    "    \n",
    "# Create an exponential table for the lookup calculation of potential. \n",
    "def createExpTable( dim, sigma, exp_resolution = 1000000 ):\n",
    "    delta_dis = np.linspace(0.0, dim, num = exp_resolution) # Range of distance difference. \n",
    "    tab = updateExpTable(sigma, delta_dis)\n",
    "    return tab, dim\n",
    "\n",
    "def updateExpTable(sigma, delta_dis):\n",
    "    sigma2 = sigma * sigma\n",
    "    # Try 2 time sigma2\n",
    "    return exp(- delta_dis/(2 *sigma2))/sigma2"
   ]
  },
  {
   "cell_type": "code",
   "execution_count": 4,
   "metadata": {
    "collapsed": true
   },
   "outputs": [],
   "source": [
    "# Currently this plotpot is only for interactive mode. \n",
    "# Eventually, data visualisation is not needed because it is aimed just for the sonification. \n",
    "# Data visualisation can be provided offline as a comparison. \n",
    "# For this method, visulisation is no use for higher dimension data anytaway \n",
    "def plotpot(data2d, fig2, sigma=.1, Nx=40, Ny=40):\n",
    "    # ensure the data sending for plotpot is always in 2d. \n",
    "    potmap = zeros((Nx, Ny))\n",
    "    for i in range(Nx):\n",
    "        for j in range(Ny):\n",
    "            x = float(i)/Nx-0.5\n",
    "            y = float(j)/Ny-0.5\n",
    "            potmap[j,i] = potential_ds(data2d, np.array([x,y]), sigma)\n",
    "    fig2.clf()\n",
    "    matshow(potmap, cmap=cm.gray, extent=(-0.5,0.5,0.5,-0.5), fignum = 2)    \n",
    "    fig2.gca().plot(data[:,0], data[:,1], \".\")\n",
    "\n",
    "def initializePot(data, N):  # It takes data and number of rows. \n",
    "    sctPlot = ax.scatter(data[:,0], data[:,1],  c=\"blue\", picker = 2, s=[50]*N)\n",
    "    fig.subplots_adjust(bottom=0.2, left=0.1)\n",
    "    plt.grid(False)\n",
    "    plt.axis([-0.6, 0.6, -0.6, 0.6])\n",
    "    return sctPlot\n",
    "    \n",
    "def plotpot2(data2d, fig, sigma=.1, Nx=40, Ny=40, figure_num = 1):\n",
    "    # ensure the data sending for plotpot is always in 2d.    \n",
    "    potmap = zeros((Nx, Ny))\n",
    "    for i in range(Nx):\n",
    "        for j in range(Ny):\n",
    "            x = float(i)/Nx-0.5\n",
    "            y = float(j)/Ny-0.5\n",
    "            potmap[j,i] = potential_ds(data2d, np.array([x,y]), sigma)\n",
    "    matshow(potmap, cmap=cm.gray, extent=(-0.5,0.5,0.5,-0.5), fignum = figure_num) \n",
    "    return potmap\n",
    "\n",
    "def spectrum(av,fs):\n",
    "    NFFT = 1024\n",
    "    figure()\n",
    "    specgram(audioVec, NFFT = NFFT, Fs = fs, noverlap = 900, cmap= cm.gist_heat)\n",
    "    show()\n",
    "    \n",
    "def stdData(data, dim):\n",
    "    for i in range(dim):\n",
    "        # S1 Standardize data. \n",
    "        data[:, i] = (data[:,i] - np.mean(data[:,i]))/np.std(data[:,1])\n",
    "        # limit range to -.5 ~ .5 in each dimension\n",
    "        data[:,i] = data[:,i] / np.max(np.absolute(data[:,i]))\n",
    "        data[:,i] = data[:,i] / 2  \n",
    "    return data\n",
    "\n",
    "# Generate data set based of dimension and num_of_cluster. \n",
    "def dataGen(row,dim, c):\n",
    "    N = row * dim\n",
    "    data = np.zeros((N,dim)) # initialise data \n",
    "    mu = 0 # Mean.\n",
    "    sigma = 0.2\n",
    "    overlap = 0.1\n",
    "    for i in range(c):\n",
    "        for j in range(dim):\n",
    "            sigma = np.random.rand() \n",
    "            data[i*int(N/c) : i*int(N/c)+ int(N/c) , j] = np.random.normal(mu, sigma, int(N/c))\n",
    "            mu = mu + sigma + (np.random.rand() - 0.5) * 0.3\n",
    "    return stdData(data, dim)\n",
    "    "
   ]
  },
  {
   "cell_type": "code",
   "execution_count": 5,
   "metadata": {
    "collapsed": false
   },
   "outputs": [],
   "source": [
    "%%cython\n",
    "cimport numpy as np\n",
    "import numpy as np\n",
    "from libc.stdlib cimport rand, malloc, free\n",
    "from libc.math cimport exp\n",
    "from matplotlib import pyplot as plt\n",
    "import time\n",
    "\n",
    "def potential_ds(np.ndarray[np.float64_t, ndim = 2] data,\\\n",
    "                 np.ndarray[np.float64_t, ndim = 1] grid, double sigma=0.2):\n",
    "    cdef int N, dim\n",
    "    N, dim = data.shape[0], data.shape[1]\n",
    "    cdef double potential, p_sum = 0.0\n",
    "    cdef int j, i\n",
    "    cdef double sigma2 = sigma *sigma \n",
    "    \n",
    "    for j in range(N):\n",
    "        for i in range(dim):\n",
    "            p_sum += (grid[i] - data[j,i]) * (grid[i] - data[j,i])\n",
    "            \n",
    "        potential += -exp (-0.5*p_sum / sigma2)\n",
    "        p_sum = 0\n",
    "    return potential\n",
    "    \n",
    "# put pos outside and make it a np array. \n",
    "def PTSM(np.ndarray[np.float64_t, ndim = 1] pos, np.ndarray[np.float64_t, ndim = 2] X,\\\n",
    "         np.ndarray[np.float64_t, ndim = 1] vel, np.ndarray[np.float64_t, ndim = 1] lookupExp,\\\n",
    "         int table_res, double norm_max, double sigma=0.25,\\\n",
    "         double dt=0.01, double r=0.99, int Nsamp=5000, double compensation = 0.01 ):\n",
    "    cdef int N, dim\n",
    "    N, dim = X.shape[0], X.shape[1]\n",
    "    cdef int i,j, steps,lookupIdx  # These 3 are for iterations. \n",
    "    cdef double sigma2,m\n",
    "    cdef double d,V, v_sum = 0.0\n",
    "    cdef double force1p_sum = 0.0\n",
    "    cdef double vel_sum = 0.0\n",
    "    cdef double *force = <double *>malloc(dim * sizeof(double))\n",
    "    cdef double *trj = <double *>malloc(Nsamp * (dim+ 1) *sizeof(double))\n",
    "    cdef double *velocity = <double *>malloc(dim * sizeof(double))\n",
    "    cdef double *position = <double *>malloc(dim * sizeof(double))\n",
    "    cdef double *temp = <double *>malloc(dim * sizeof(double)) \n",
    "    cdef double testing = 0.0\n",
    "\n",
    "    for i in range(dim):\n",
    "        velocity[i] = vel[i]\n",
    "        position[i] = pos[i]\n",
    "        \n",
    "    sigma2 = sigma * sigma\n",
    "    m = compensation/sigma2\n",
    "    #--------------------\n",
    "       # Force\n",
    "    for steps in range(Nsamp): \n",
    "        for i in range(dim):\n",
    "            force[i] = 0\n",
    "        for j in range (N):\n",
    "            for i in range (dim):\n",
    "                temp[i] = (position[i] - X[j,i])\n",
    "                force1p_sum  += temp[i] * temp[i]\n",
    "            # Look for exp index \n",
    "            \n",
    "            lookupIdx = int(force1p_sum/norm_max * table_res )\n",
    "            # Prevent index become much bigger than the table \n",
    "            if (lookupIdx >= table_res):\n",
    "                lookupIdx = table_res - 1\n",
    "            for i in range (dim):  \n",
    "#                 print lookupExp[lookupIdx]\n",
    "                force[i] += -temp[i] * lookupExp[lookupIdx]\n",
    "               \n",
    "            force1p_sum = 0\n",
    "    #------------\n",
    "    #         Now update pos and vel \n",
    "    #         This is the main part to get the trajectory information in terms of the new velocity \n",
    "    #         and position\n",
    "        for i in range(dim):\n",
    "            # Should be dt /m * force[i], but since m = 1.0\n",
    "            velocity[i] = r * velocity[i] + dt * force[i] / m \n",
    "            # This part doesn't ensure velocity to be \n",
    "            # constantly dropping. \n",
    "            # A potential solution is ot put m = k/sigma2, This compensates\n",
    "            position[i] = position[i] + dt * velocity[i]\n",
    "            vel_sum += velocity[i] \n",
    "\n",
    "            #-----------------------  \n",
    "    #         # Put velocity and new position into the trj array. \n",
    "        for i in range(dim + 1):\n",
    "            if i == 0: # The first column is always given to the velocity\n",
    "                trj[steps * (dim + 1) + i] =  vel_sum\n",
    "            else:\n",
    "                trj[steps * (dim + 1) + i] = position[i - 1]\n",
    "        vel_sum = 0\n",
    "#     # put trj into a numpy array. Because you can't return a c-array.              \n",
    "    resultTrj = np.zeros(Nsamp * (dim + 1), dtype = np.float64)\n",
    "    resultVel = np.zeros(dim)\n",
    "    # Move c array to numpy array for return \n",
    "    for i in range(Nsamp* (dim + 1)):\n",
    "        resultTrj[i] = trj[i]     \n",
    "    for i in range(dim): \n",
    "        resultVel[i] = velocity[i]  \n",
    "    # Transpose matrix\n",
    "    resultTrj = np.reshape(resultTrj, (-1, dim + 1))  # Correct the matrix shape. \n",
    "#     # Free up memories. \n",
    "#     print testing\n",
    "    free(trj)\n",
    "    free(force)\n",
    "    free(velocity)\n",
    "    free(position)\n",
    "    return resultTrj, resultVel\n"
   ]
  },
  {
   "cell_type": "code",
   "execution_count": 6,
   "metadata": {
    "collapsed": false
   },
   "outputs": [
    {
     "name": "stdout",
     "output_type": "stream",
     "text": [
      "0.0201961994171\n"
     ]
    },
    {
     "data": {
      "image/png": "[encoded data removed]",
      "text/plain": [
       "<matplotlib.figure.Figure at 0x106e9bf90>"
      ]
     },
     "metadata": {},
     "output_type": "display_data"
    }
   ],
   "source": [
    "# if testMode == T, a random example is used as the data. \n",
    "# else, you can load the actual data txt files. \n",
    "testMode = True\n",
    "if testMode == True:\n",
    "    data = dataGen(row = 300, dim = 5, c = 4)\n",
    "    N, dim = data.shape[0], data.shape[1]\n",
    "    plot(data[:, 0], data[:,1], \".\")   \n",
    "\n",
    "else:\n",
    "    # Load test data from file \n",
    "#     data = np.loadtxt(\"data/dim032.txt\")\n",
    "    # Still have problem loading csv file. \n",
    "    data = np.genfromtxt(\"data/posture.csv\",delimiter=\",\", skip_header = 1)\n",
    "    headers = np.genfromtxt(\"data/posture.csv\", dtype = np.str_, delimiter = \",\", max_rows = 1 )\n",
    "    N, dim = data.shape[0], data.shape[1]\n",
    "#     data = stdData(data, dim)\n",
    "#     plot(data[:,0], data[:,1], \".\")\n",
    "\n",
    "# Create exp lookup\n",
    "exp_resolution = 1000000 # Resolution for lookup table\n",
    "delta_dis = np.linspace(0.0, dim, num = exp_resolution) # Range of distance difference. \n",
    "# m_comp = 0.001 # mass compensation\n",
    "norm_max = dim\n",
    "sigma = 0.1\n",
    "t0 = time.time()\n",
    "exp_table = updateExpTable(sigma, delta_dis)\n",
    "t1 = time.time()\n",
    "print (t1 - t0)"
   ]
  },
  {
   "cell_type": "markdown",
   "metadata": {},
   "source": [
    "## Create loop up table for exp()\n"
   ]
  },
  {
   "cell_type": "markdown",
   "metadata": {},
   "source": [
    "## Interaction here. \n",
    "\n",
    "Offer visualise mode and only sound mode. \n"
   ]
  },
  {
   "cell_type": "code",
   "execution_count": null,
   "metadata": {
    "collapsed": false
   },
   "outputs": [],
   "source": [
    "%pylab\n",
    "fig, ax = plt.subplots()\n",
    "# Init paras\n",
    "\n",
    "m_comp = 0.01 # mass compensation\n",
    "dt, resistant, sigma = 0.01 , 0.999, 0.06 # init \n",
    "t = 1 # Time in second per piece\n",
    "blockSize = 5000   # Buffer size for trajectory\n",
    "audioVecSize  = t *  blockSize  # I define that 5000 steps will return 1 second of audio \n",
    "exp_table, norm_max = createExpTable(dim, sigma, exp_resolution = exp_resolution)\n",
    "\n",
    "# Initilize audio\n",
    "window = makeWindow(audioVecSize, rampUp = 0.02, rampDown = 0.02) # Windowing for audio\n",
    "soundEngine = playAudioNoThread(fs, dataLen = t, play_back_rate = 1, bs=audioVecSize, amp = 0.9)\n",
    "#-------------------------------------------------#\n",
    "\n",
    "# Initialize the plot windows. \n",
    "sctPlot = initializePot(data, N)\n",
    "def on_pick(event): \n",
    "    global data, sigma, resultWindow, vel, resistant, window, audioVecSize, fs, t,\\\n",
    "    t_exp, r2, t_res, norm_max, blockSize\n",
    "    t0 = time.time()\n",
    "    drawResult = True\n",
    "    # Generate a random velocity at each trigger. \n",
    "    # Need to know whether this is correct. \n",
    "    vel = rand(dim); vel /= -norm(vel)/1\n",
    "    vel = vel * 2\n",
    "    artist = event.artist # Current click event\n",
    "    ind = np.array(event.ind) # Get the index of the clicked data\n",
    "    # To prevent retriving multiple points. Always take the first index for PTSM\n",
    "    pos = np.array(data[ind[0],:])\n",
    "    # Get PTSM trajectory information\n",
    "    trj, junk = PTSM(pos, data, vel, exp_table, exp_resolution, \\\n",
    "                norm_max, sigma = sigma, dt = dt, r = resistant,\\\n",
    "                Nsamp = audioVecSize, compensation = m_comp)\n",
    "    audioVec = trj[:,0] / np.max(np.absolute(trj[:,0])) * window\n",
    "#     audioVec = addSilence(audioVec, blockSize) # Now add silence will cause the differ in table size. \n",
    "    soundEngine.single(audioVec)\n",
    "    \n",
    "    if drawResult == True:\n",
    "        plotpot(data[:, 0:2], fig2 = resultWindow,  sigma = sigma )\n",
    "        resultWindow.gca().plot(trj[:,1], trj[:,2], \"-\", lw=0.7, c = \"green\")\n",
    "        # Mark the beginning and the end of trajectory . \n",
    "        resultWindow.gca().plot(trj[0,1], trj[0,2], \"o\",  c = \"yellow\")\n",
    "        resultWindow.gca().plot(trj[audioVecSize - 1,1], trj[audioVecSize - 1,2], \"x\",  c = \"red\")\n",
    "        resultWindow.gca().axis([-0.6, 0.6, -0.6, 0.6])\n",
    "        resultWindow.canvas.draw()\n",
    "    print time.time() - t0\n",
    "\n",
    "# ---------------#\n",
    "# Create a slider for setting up the velocity\n",
    "axcolor = 'lightgoldenrodyellow'\n",
    "# Create sliders for sigma and dt. \n",
    "axSigma = plt.axes([0.1, 0.1, 0.8, 0.02], axisbg = axcolor)\n",
    "axDt = plt.axes([0.1, 0.06, 0.8, 0.02], axisbg = axcolor)\n",
    "axR = plt.axes([0.1, 0.02, 0.8, 0.02], axisbg = axcolor)\n",
    "\n",
    "ssigma = Slider(axSigma, \"Sigma\", 0.001, 3.15, valinit=0.06, color='blue')\n",
    "sdt = Slider(axDt, \"dt\", 0.001, 0.02, valinit = 0.01, color = 'blue')\n",
    "sresistant = Slider(axR, \"r\", 0.999, 1.0, valinit = resistant, color = 'blue')\n",
    "\n",
    "ssigma.on_changed(sigmaUpdate)\n",
    "sdt.on_changed(sliderUpdate)\n",
    "sresistant.on_changed(sliderUpdate)\n",
    "resultWindow = figure(2, figsize=(8, 8))\n",
    "\n",
    "\n",
    "fig.canvas.mpl_connect('pick_event', on_pick)\n",
    "\n",
    "\n"
   ]
  },
  {
   "cell_type": "code",
   "execution_count": null,
   "metadata": {
    "collapsed": false
   },
   "outputs": [],
   "source": [
    "resultWindow.canvas.manager\n"
   ]
  },
  {
   "cell_type": "code",
   "execution_count": null,
   "metadata": {
    "collapsed": false
   },
   "outputs": [],
   "source": [
    "def dataGen(row,dim, c):\n",
    "    N = row * dim\n",
    "    data = np.zeros((N,dim)) # initialise data \n",
    "    mu = 0 # Mean.\n",
    "    sigma = 0.2\n",
    "    overlap = 0.1\n",
    "    for i in range(c):\n",
    "        for j in range(dim):\n",
    "            sigma = np.random.rand() \n",
    "            data[i*int(N/c) : i*int(N/c)+ int(N/c) , j] = np.random.normal(mu, sigma, int(N/c))\n",
    "            mu = mu + sigma + (np.random.rand() - 0.5) * 0.3\n",
    "    return stdData(data, dim)\n",
    "\n",
    "data = dataGen(row = 200, dim = 3, c = 3)\n",
    "plot(data[:, 0], data[:,1], \".\")       \n",
    "        \n",
    "    \n",
    "\n",
    "        "
   ]
  },
  {
   "cell_type": "code",
   "execution_count": null,
   "metadata": {
    "collapsed": false
   },
   "outputs": [],
   "source": [
    "type(mu)"
   ]
  },
  {
   "cell_type": "code",
   "execution_count": 16,
   "metadata": {
    "collapsed": false
   },
   "outputs": [
    {
     "name": "stdout",
     "output_type": "stream",
     "text": [
      "Using matplotlib backend: MacOSX\n",
      "Populating the interactive namespace from numpy and matplotlib\n"
     ]
    },
    {
     "data": {
      "text/plain": [
       "15"
      ]
     },
     "execution_count": 16,
     "metadata": {},
     "output_type": "execute_result"
    },
    {
     "name": "stdout",
     "output_type": "stream",
     "text": [
      "0.156225919724\n",
      "0.141179800034\n",
      "0.163054943085\n",
      "0.17466711998\n"
     ]
    }
   ],
   "source": [
    "%pylab\n",
    "fig, ax = plt.subplots()\n",
    "m_comp = 0.01 # mass compensation\n",
    "dt, resistant, sigma = 0.01 , 0.999, 0.06 # init \n",
    "t = 1 # Time in second per piece\n",
    "blockSize = 5000   # Buffer size for trajectory\n",
    "audioVecSize  = t *  blockSize  # I define that 5000 steps will return 1 second of audio \n",
    "exp_table, norm_max = createExpTable(dim, sigma, exp_resolution = exp_resolution)\n",
    "window = makeWindow(audioVecSize, rampUp = 0.02, rampDown = 0.02) # Windowing for audio\n",
    "audioVec = np.zeros(audioVecSize)\n",
    "drawResult = True\n",
    "\n",
    "#-------------------------------------------------#\n",
    "\n",
    "# Initialize the plot windows. \n",
    "\n",
    "sctPlot = initializePot(data, N)\n",
    "\n",
    "def proc(fifo, stopevent):\n",
    "    global audioVec\n",
    "    fifo.put(audioVec)\n",
    "\n",
    "    \n",
    "def on_pick(event):\n",
    "    # In the continuous mode, window shouldn't be used. \n",
    "    global data, sigma, resultWindow, resistant, window, audioVecSize,\\\n",
    "    norm_max, audioVec, drawResult\n",
    "    # Initialise velocity. \n",
    "    vel = rand(dim); vel /= -norm(vel)/1\n",
    "    vel = vel * 2\n",
    "    \n",
    "    artist = event.artist # Current click event\n",
    "    ind = np.array(event.ind) # Get the index of the clicked data\n",
    "    # To prevent retriving multiple points. Always take the first index for PTSM\n",
    "    pos = np.array(data[ind[0],:])\n",
    "    # Get PTSM trajectory information\n",
    "    t0 = time.time()\n",
    "    trj, junk = PTSM(pos, data, vel, exp_table, exp_resolution, \\\n",
    "                norm_max, sigma = sigma, dt = dt, r = resistant,\\\n",
    "                Nsamp = audioVecSize, compensation = m_comp)\n",
    "    \n",
    "    audioVec = trj[:,0] / np.max(np.absolute(trj[:,0])) * window\n",
    "    stopevent = threading.Event()\n",
    "    producer = threading.Thread(name=\"Compute audio signal\", target=proc, args=[fifo, stopevent])\n",
    "    producer.start() \n",
    "    print time.time() - t0\n",
    "    \n",
    "    if drawResult == True:\n",
    "        plotpot(data[:, 0:2], fig2 = resultWindow,  sigma = sigma )\n",
    "        resultWindow.gca().plot(trj[:,1], trj[:,2], \"-\", lw=0.7, c = \"green\")\n",
    "        # Mark the beginning and the end of trajectory . \n",
    "        resultWindow.gca().plot(trj[0,1], trj[0,2], \"o\",  c = \"yellow\")\n",
    "        resultWindow.gca().plot(trj[audioVecSize - 1,1], trj[audioVecSize - 1,2], \"x\",  c = \"red\")\n",
    "        resultWindow.gca().axis([-0.6, 0.6, -0.6, 0.6])\n",
    "        resultWindow.canvas.draw()\n",
    "    \n",
    "\n",
    "\n",
    "# ---------------#\n",
    "# Create a slider for setting up the velocity\n",
    "axcolor = 'lightgoldenrodyellow'\n",
    "# Create sliders for sigma and dt. \n",
    "axSigma = plt.axes([0.1, 0.1, 0.8, 0.02], axisbg = axcolor)\n",
    "axDt = plt.axes([0.1, 0.06, 0.8, 0.02], axisbg = axcolor)\n",
    "axR = plt.axes([0.1, 0.02, 0.8, 0.02], axisbg = axcolor)\n",
    "\n",
    "ssigma = Slider(axSigma, \"Sigma\", 0.001, 3.15, valinit=0.06, color='blue')\n",
    "sdt = Slider(axDt, \"dt\", 0.001, 0.02, valinit = 0.01, color = 'blue')\n",
    "sresistant = Slider(axR, \"r\", 0.999, 1.0, valinit = resistant, color = 'blue')\n",
    "\n",
    "ssigma.on_changed(sigmaUpdate)\n",
    "sdt.on_changed(sliderUpdate)\n",
    "sresistant.on_changed(sliderUpdate)\n",
    "resultWindow = figure(2, figsize=(8, 8))\n",
    "fig.canvas.mpl_connect('pick_event', on_pick)\n"
   ]
  },
  {
   "cell_type": "code",
   "execution_count": null,
   "metadata": {
    "collapsed": true
   },
   "outputs": [],
   "source": []
  },
  {
   "cell_type": "code",
   "execution_count": null,
   "metadata": {
    "collapsed": true
   },
   "outputs": [],
   "source": []
  }
 ],
 "metadata": {
  "kernelspec": {
   "display_name": "Python 2",
   "language": "python",
   "name": "python2"
  },
  "language_info": {
   "codemirror_mode": {
    "name": "ipython",
    "version": 2
   },
   "file_extension": ".py",
   "mimetype": "text/x-python",
   "name": "python",
   "nbconvert_exporter": "python",
   "pygments_lexer": "ipython2",
   "version": "2.7.12"
  }
 },
 "nbformat": 4,
 "nbformat_minor": 0
}
