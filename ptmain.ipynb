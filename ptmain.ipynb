{
 "cells": [
  {
   "cell_type": "code",
   "execution_count": 1,
   "metadata": {
    "collapsed": false
   },
   "outputs": [
    {
     "name": "stdout",
     "output_type": "stream",
     "text": [
      "Using matplotlib backend: MacOSX\n",
      "Populating the interactive namespace from numpy and matplotlib\n",
      "\n",
      "WxPython is not found for the current python version.\n",
      "Pyo will use a minimal GUI toolkit written with Tkinter.\n",
      "This toolkit has limited functionnalities and is no more\n",
      "maintained or updated. If you want to use all of pyo's\n",
      "GUI features, you should install WxPython, available here:\n",
      "http://www.wxpython.org/\n",
      "\n"
     ]
    },
    {
     "data": {
      "text/plain": [
       "< Instance of FIFOPlayer class >"
      ]
     },
     "execution_count": 1,
     "metadata": {},
     "output_type": "execute_result"
    }
   ],
   "source": [
    "%load_ext Cython \n",
    "%pylab \n",
    "import numpy as np\n",
    "from io import StringIO\n",
    "import time\n",
    "import threading \n",
    "import matplotlib.widgets as widgets\n",
    "import random as pyrandom\n",
    "def linlin(x, smi, sma, dmi, dma): return (x-smi)/(sma-smi)*(dma-dmi)+dmi\n",
    "from threading import Thread\n",
    "# from pyo import *\n",
    "# Audio server\n",
    "import pyo64 as pyo\n",
    "from scipy.signal import butter, lfilter, freqz\n",
    "# Is 1024 too large for the bufferSize in this case. \n",
    "fs = 44100/5\n",
    "s = pyo.Server(sr=fs, nchnls=2, buffersize=1024, duplex=0).boot()\n",
    "s.start()\n",
    "# Need to adjust the maxsize to test the speed. \n",
    "fifo = pyo.FIFOPlayer(maxsize=20, mul=[.5,.5])\n",
    "mixer = pyo.Mixer()\n",
    "mixer.addInput(0, fifo);mixer.setAmp(0,0,1)\n",
    "mixer.addInput(1, fifo);mixer.setAmp(1,1,1)\n",
    "mixer.out()\n",
    "fifo.out()\n",
    "\n"
   ]
  },
  {
   "cell_type": "code",
   "execution_count": 26,
   "metadata": {
    "collapsed": false
   },
   "outputs": [
    {
     "name": "stdout",
     "output_type": "stream",
     "text": [
      "Play the velocity vector.\n",
      "Play the velocity vector.\n",
      "Play the velocity vector.\n",
      "Play the velocity vector.\n",
      "Play the velocity vector.\n",
      "Play the velocity vector.\n",
      "Play the velocity vector.\n",
      "Play the velocity vector.\n",
      "Play the velocity vector.\n"
     ]
    }
   ],
   "source": [
    "def proc(fifo, stopevent):\n",
    "    global velSound, forceSound, which2play\n",
    "    if (which2play == \"velocity\"):\n",
    "        print \"Play the velocity vector.\"\n",
    "        fifo.put(velSound)\n",
    "    if (which2play == \"force\"):\n",
    "        print \"Play the force vector\"\n",
    "        fifo.put(forceSound)\n",
    "        \n",
    "def butter_lowpass(cutoff, fs, order=5):\n",
    "    nyq = 0.5 * fs\n",
    "    normal_cutoff = cutoff / nyq\n",
    "    b, a = butter(order, normal_cutoff, btype='low', analog=False)\n",
    "    return b, a\n",
    "\n",
    "def butter_lowpass_filter(data, cutoff, fs, order=5):\n",
    "    b, a = butter_lowpass(cutoff, fs, order=order)\n",
    "    y = lfilter(b, a, data)\n",
    "    return y\n",
    "\n",
    "def plotTrajectory(data, sigma, trj, resultWindow, audioVecSize):\n",
    "        plotpot(data[:, 0:2], fig2 = resultWindow,  sigma = sigma )\n",
    "        resultWindow.gca().plot(trj[:,1], trj[:,2], \"-\", lw=0.7, c = \"green\")\n",
    "        resultWindow.gca().plot(trj[0,1], trj[0,2], \"o\",  c = \"yellow\")\n",
    "        resultWindow.gca().plot(trj[audioVecSize - 1,1], trj[audioVecSize - 1,2], \"x\",  c = \"red\")\n",
    "        resultWindow.gca().axis([-0.6, 0.6, -0.6, 0.6])\n",
    "        resultWindow.canvas.draw()\n",
    "    \n",
    "\n",
    "# For winding\n",
    "def makeWindow(s, rampUp = 0.02, rampDown = 0.02):\n",
    "    w = np.append(np.linspace(0, 1.0, num = int(s * rampUp)), \\\n",
    "      np.ones(s - int(s * rampUp)- int(s * rampDown)))\n",
    "    w = np.append(w, np.linspace(1.0, 0, num = int(s * rampDown)))\n",
    "    return w\n",
    "\n",
    "# Slider update function, for the interaction\n",
    "def sliderUpdate(val):\n",
    "    global dt, resistant\n",
    "    sigma = ssigma.val\n",
    "    exp_table = updateExpTable(sigma, delta_dis)\n",
    "    dt = sdt.val\n",
    "    resistant = sresistant.val\n",
    "    \n",
    "def sigmaUpdate(val):\n",
    "    global sigma, exp_table, delta_dis\n",
    "    sigma = ssigma.val\n",
    "    exp_table = updateExpTable(sigma, delta_dis)\n",
    "#-----------------------\n",
    "    \n",
    "# Create an exponential table for the lookup calculation of potential. \n",
    "def createExpTable( dim, sigma, exp_resolution = 1000000 ):\n",
    "    delta_dis = np.linspace(0.0, dim, num = exp_resolution) # Range of distance difference. \n",
    "    tab = updateExpTable(sigma, delta_dis)\n",
    "    return tab, dim\n",
    "\n",
    "def updateExpTable(sigma, delta_dis):\n",
    "    sigma2 = sigma * sigma\n",
    "    # Try 2 time sigma2\n",
    "    return exp(- delta_dis/(2 *sigma2))/sigma2\n",
    "# ------------------------------------------------------#"
   ]
  },
  {
   "cell_type": "code",
   "execution_count": 30,
   "metadata": {
    "collapsed": false
   },
   "outputs": [],
   "source": [
    "# Currently this plotpot is only for interactive mode. \n",
    "# Eventually, data visualisation is not needed because it is aimed just for the sonification. \n",
    "# Data visualisation can be provided offline as a comparison. \n",
    "# For this method, visulisation is no use for higher dimension data anytaway \n",
    "def plotpot(data2d, fig2, sigma=.1, Nx=40, Ny=40):\n",
    "    # ensure the data sending for plotpot is always in 2d. \n",
    "    potmap = zeros((Nx, Ny))\n",
    "    # The potetnial pot should not be run everytime. \n",
    "    for i in range(Nx):\n",
    "        for j in range(Ny):\n",
    "            x = float(i)/Nx-0.5\n",
    "            y = float(j)/Ny-0.5\n",
    "            potmap[j,i] = potential_ds(data2d, np.array([x,y]), sigma)\n",
    "    fig2.clf()\n",
    "    matshow(potmap, cmap=cm.gray, extent=(-0.5,0.5,0.5,-0.5), fignum = 2)    \n",
    "    fig2.gca().plot(data[:,0], data[:,1], \".\")\n",
    "\n",
    "def initializePot(data, N):  # It takes data and number of rows. \n",
    "    sctPlot = ax.scatter(data[:,0], data[:,1],  c=\"blue\", picker = 2, s=[50]*N)\n",
    "    fig.subplots_adjust(bottom=0.25, left=0.1)\n",
    "    plt.grid(False)\n",
    "    plt.axis([-0.6, 0.6, -0.6, 0.6])\n",
    "    return sctPlot\n",
    "    \n",
    "\n",
    "def spectrum(av,fs):\n",
    "    NFFT = 1024\n",
    "    figure()\n",
    "    specgram(av, NFFT = NFFT, Fs = fs, noverlap = 900, cmap= cm.gist_heat)\n",
    "    show()\n",
    "    \n",
    "def stdData(data, dim):\n",
    "    for i in range(dim):\n",
    "        # S1 Standardize data. \n",
    "        data[:, i] = (data[:,i] - np.mean(data[:,i]))/np.std(data[:,1])\n",
    "        # limit range to -.5 ~ .5 in each dimension\n",
    "        data[:,i] = data[:,i] / np.max(np.absolute(data[:,i]))\n",
    "        data[:,i] = data[:,i] / 2  \n",
    "    return data\n",
    "\n",
    "# Generate data set based of dimension and num_of_cluster. \n",
    "def dataGen(dim, c, sigma = 0.2, minnr = 50, maxnr = 200):\n",
    "    for i in range(c):\n",
    "        nr = pyrandom.randrange(minnr, maxnr, 1)\n",
    "        meanvec = np.random.rand(dim)\n",
    "        covmat = sigma**2*cov(np.random.rand(dim, dim))\n",
    "        dtmp = np.random.multivariate_normal(meanvec, covmat, nr)\n",
    "        if(i==0): \n",
    "            result = dtmp.copy() \n",
    "        else:\n",
    "            result = np.vstack((result, dtmp.copy()))\n",
    "    return stdData(result, dim)\n",
    "    "
   ]
  },
  {
   "cell_type": "code",
   "execution_count": 4,
   "metadata": {
    "collapsed": false
   },
   "outputs": [],
   "source": [
    "%%cython\n",
    "cimport numpy as np\n",
    "import numpy as np\n",
    "from libc.stdlib cimport rand, malloc, free\n",
    "from libc.math cimport exp\n",
    "from matplotlib import pyplot as plt\n",
    "import time\n",
    "\n",
    "def potential_ds(np.ndarray[np.float64_t, ndim = 2] data,\\\n",
    "                 np.ndarray[np.float64_t, ndim = 1] grid, double sigma=0.2):\n",
    "    cdef int N, dim\n",
    "    N, dim = data.shape[0], data.shape[1]\n",
    "    cdef double potential, p_sum = 0.0\n",
    "    cdef int j, i\n",
    "    cdef double sigma2 = sigma *sigma \n",
    "    \n",
    "    for j in range(N):\n",
    "        for i in range(dim):\n",
    "            p_sum += (grid[i] - data[j,i]) * (grid[i] - data[j,i])\n",
    "            \n",
    "        potential += -exp (-0.5*p_sum / sigma2)\n",
    "        p_sum = 0\n",
    "    return potential\n",
    "    \n",
    "# put pos outside and make it a np array. \n",
    "def PTSM(np.ndarray[np.float64_t, ndim = 1] pos, np.ndarray[np.float64_t, ndim = 2] X,\\\n",
    "         np.ndarray[np.float64_t, ndim = 1] vel, np.ndarray[np.float64_t, ndim = 1] lookupExp,\\\n",
    "         int table_res, double norm_max, double sigma=0.25,\\\n",
    "         double dt=0.01, double r=0.99, int Nsamp=5000, double compensation = 0.01 ):\n",
    "    cdef int N, dim\n",
    "    N, dim = X.shape[0], X.shape[1]\n",
    "    cdef int i,j, steps,lookupIdx  # These 3 are for iterations. \n",
    "    cdef double sigma2,m\n",
    "    cdef double d,V, v_sum = 0.0\n",
    "    cdef double force1p_sum = 0.0\n",
    "    cdef double vel_sum = 0.0\n",
    "    cdef double *force = <double *>malloc(dim * sizeof(double))\n",
    "    cdef double *trj = <double *>malloc(Nsamp * (dim+ 1) *sizeof(double))\n",
    "    cdef double *velocity = <double *>malloc(dim * sizeof(double))\n",
    "    cdef double *position = <double *>malloc(dim * sizeof(double))\n",
    "    cdef double *temp = <double *>malloc(dim * sizeof(double)) \n",
    "    \n",
    "    cdef double *viewForce = <double *>malloc(Nsamp* dim * sizeof(double))\n",
    "#     cdef double testing = 0.0\n",
    "\n",
    "    for i in range(dim):\n",
    "        velocity[i] = vel[i]\n",
    "        position[i] = pos[i]\n",
    "        \n",
    "    sigma2 = sigma * sigma\n",
    "    m = compensation/sigma2\n",
    "    #--------------------\n",
    "       # Force\n",
    "    for steps in range(Nsamp): \n",
    "        for i in range(dim):\n",
    "            force[i] = 0\n",
    "        for j in range (N):\n",
    "            for i in range (dim):\n",
    "                temp[i] = (position[i] - X[j,i])\n",
    "                force1p_sum  += temp[i] * temp[i]\n",
    "            # Look for exp index \n",
    "            \n",
    "            lookupIdx = int(force1p_sum/norm_max * table_res )\n",
    "#             print lookupIdx\n",
    "            # Prevent index become much bigger than the table \n",
    "            if (lookupIdx >= table_res):\n",
    "                lookupIdx = table_res - 1\n",
    "            for i in range (dim):  \n",
    "#                 print lookupExp[lookupIdx]\n",
    "                force[i] += -temp[i] * lookupExp[lookupIdx]\n",
    "               \n",
    "            force1p_sum = 0\n",
    "    #------------\n",
    "    #         Now update pos and vel \n",
    "    #         This is the main part to get the trajectory information in terms of the new velocity \n",
    "    #         and position\n",
    "        \n",
    "        for i in range(dim):\n",
    "            viewForce[steps*dim + i] = force[i]\n",
    "            # Should be dt /m * force[i], but since m = 1.0\n",
    "            velocity[i] = r * velocity[i] + dt * force[i] / m \n",
    "            position[i] = position[i] + dt * velocity[i]\n",
    "            vel_sum += velocity[i] \n",
    "\n",
    "            #-----------------------  \n",
    "    #         # Put velocity and new position into the trj array. \n",
    "        for i in range(dim + 1):\n",
    "            if i == 0: # The first column is always given to the velocity\n",
    "                trj[steps * (dim + 1) + i] =  vel_sum\n",
    "            else:\n",
    "                trj[steps * (dim + 1) + i] = position[i - 1]\n",
    "        vel_sum = 0\n",
    "#     # put trj into a numpy array. Because you can't return a c-array.              \n",
    "    resultTrj = np.zeros(Nsamp * (dim + 1), dtype = np.float64)\n",
    "    resultVel = np.zeros(dim)\n",
    "    resultForce = np.zeros(Nsamp * dim)\n",
    "    # Move c array to numpy array for return \n",
    "    for i in range(Nsamp* (dim + 1)):\n",
    "        resultTrj[i] = trj[i]     \n",
    "    for i in range(dim): \n",
    "        resultVel[i] = velocity[i]  \n",
    "\n",
    "    for i in range(dim * Nsamp):\n",
    "        resultForce[i] = viewForce[i]\n",
    "    # Transpose matrix\n",
    "    resultTrj = np.reshape(resultTrj, (-1, dim + 1))  # Correct the matrix shape. \n",
    "#     # Free up memories. \n",
    "#     print testing\n",
    "    free(trj)\n",
    "    free(force)\n",
    "    free(velocity)\n",
    "    free(position)\n",
    "    free(viewForce)\n",
    "    return resultTrj, resultVel, resultForce\n"
   ]
  },
  {
   "cell_type": "code",
   "execution_count": 23,
   "metadata": {
    "collapsed": false
   },
   "outputs": [
    {
     "name": "stderr",
     "output_type": "stream",
     "text": [
      "/usr/local/lib/python2.7/site-packages/ipykernel/__main__.py:47: RuntimeWarning: covariance is not positive-semidefinite.\n"
     ]
    }
   ],
   "source": [
    "\n",
    "# if testMode == T, a random example is used as the data. \n",
    "# else, you can load the actual data txt files. \n",
    "testMode = True\n",
    "if testMode :\n",
    "    data = dataGen(dim = 4, c = 3,sigma = 0.3, minnr = 100, maxnr = 300)\n",
    "    N, dim = data.shape[0], data.shape[1]\n",
    "    pylab.rcParams['figure.figsize'] = (8.0, 8.0)\n",
    "    ct=1\n",
    "    plot(data[:, 0], data[:,1], \".\")\n",
    "#     for i in range(dim):\n",
    "#         for j in range(dim):\n",
    "#             subplot(dim, dim, ct)\n",
    "#             plot(data[:, i], data[:,j], \".\")   \n",
    "#             ct += 1  \n",
    "\n",
    "else:\n",
    "    # Load test data from file \n",
    "#     data = np.loadtxt(\"data/dim032.txt\")\n",
    "    # Still have problem loading csv file. \n",
    "    data = np.genfromtxt(\"data/posture.csv\",delimiter=\",\", skip_header = 1)\n",
    "    headers = np.genfromtxt(\"data/posture.csv\", dtype = np.str_, delimiter = \",\", max_rows = 1 )\n",
    "    N, dim = data.shape[0], data.shape[1]\n",
    "#     data = stdData(data, dim)\n",
    "#     plot(data[:,0], data[:,1], \".\")\n",
    "\n",
    "# Create exp lookup\n",
    "exp_resolution = 1000000 # Resolution for lookup table\n",
    "delta_dis = np.linspace(0.0, dim, num = exp_resolution) # Range of distance difference. \n",
    "# m_comp = 0.001 # mass compensation\n",
    "norm_max = dim\n",
    "sigma = 0.1\n",
    "exp_table = updateExpTable(sigma, delta_dis)"
   ]
  },
  {
   "cell_type": "code",
   "execution_count": 24,
   "metadata": {
    "collapsed": true
   },
   "outputs": [],
   "source": [
    "class soundOption(object):\n",
    "    \n",
    "    def velocity(self, event):\n",
    "        global which2play\n",
    "        which2play = \"velocity\"\n",
    "\n",
    "    \n",
    "    def force(self, event):\n",
    "        global which2play\n",
    "        which2play = \"force\""
   ]
  },
  {
   "cell_type": "markdown",
   "metadata": {},
   "source": [
    "## Create loop up table for exp()\n"
   ]
  },
  {
   "cell_type": "markdown",
   "metadata": {},
   "source": [
    "## Interaction here. \n",
    "\n",
    "Offer visualise mode and only sound mode. \n",
    "\n",
    "To do list:\n",
    " \n",
    "3. OpenCL \n",
    "4. Benchmarking\n",
    "5. Hardware. \n",
    "4. Multiple particle mode \n"
   ]
  },
  {
   "cell_type": "code",
   "execution_count": 28,
   "metadata": {
    "collapsed": false,
    "scrolled": true
   },
   "outputs": [
    {
     "name": "stdout",
     "output_type": "stream",
     "text": [
      "Play the velocity vector.\n"
     ]
    },
    {
     "data": {
      "text/plain": [
       "21"
      ]
     },
     "execution_count": 28,
     "metadata": {},
     "output_type": "execute_result"
    }
   ],
   "source": [
    "fig, ax = plt.subplots()\n",
    "\n",
    "m_comp, dt, resistant, sigma = 0.02, 0.005 , 0.999, 0.15 # init \n",
    "max_sigma = log(dim)/2.5 * 0.5 + 0.1\n",
    "\n",
    "t = 1.0 # Time in second per piece\n",
    "blockSize = 5000   # Buffer size for trajectory\n",
    "audioVecSize  = int(t *  blockSize)  # I define that 5000 steps will return 1 second of audio \n",
    "exp_table, norm_max = createExpTable(dim, sigma, exp_resolution = exp_resolution)\n",
    "windowing = makeWindow(audioVecSize, rampUp = 0.05, rampDown = 0.05) # Windowing for audio\n",
    "velSound = np.zeros(audioVecSize)\n",
    "forceSound = np.zeros(dim*audioVecSize) # This is only meant for visualisation. \n",
    "drawResult = True\n",
    "which2play = \"velocity\" # Initialise the button press\n",
    "#-------------------------------------------------#\n",
    "\n",
    "# Initialize the plot windows. \n",
    "sctPlot = initializePot(data, N)\n",
    "\n",
    "def on_pick(event):\n",
    "    # In the continuous mode, window shouldn't be used. \n",
    "    global data, sigma, resistant, dt, resultWindow, windowing, audioVecSize,\\\n",
    "    norm_max, velSound, drawResult, dim, forceSound, fs\n",
    "    vel = (rand(dim) - 0.5) \n",
    "    # Initialise velocity. \n",
    "    \n",
    "    artist = event.artist # Current click event\n",
    "    ind = np.array(event.ind) # Get the index of the clicked data\n",
    "    pos = np.array(data[ind[0],:])\n",
    "    \n",
    "    # Get PTSM trajectory information\n",
    "    trj, junk, forceSound = PTSM(pos, data, vel, exp_table, exp_resolution, \\\n",
    "                norm_max, sigma = sigma, dt = dt, r = resistant,\\\n",
    "                Nsamp = audioVecSize, compensation = m_comp)\n",
    "    #-------------------------------------------#\n",
    "    # Process sound #----------\n",
    "    velSound = trj[:,0] / np.max(np.absolute(trj[:,0]))* windowing \n",
    "    velSound = butter_lowpass_filter(velSound, 2000.0, fs, 6) # 6th order\n",
    "    forceSound = forceSound/np.max(np.absolute(forceSound))    \n",
    "    stopevent = threading.Event()\n",
    "    producer = threading.Thread(name=\"Compute audio signal\", target=proc, args=[fifo, stopevent])\n",
    "    producer.start() \n",
    "    if drawResult == True:\n",
    "#         plotTrajectory(data = data, sigma = sigma, trj = trj, \n",
    "#                        resultWindow = resultWindow, audioVecSize = resultWindow)\n",
    "        plotpot(data[:, 0:2], fig2 = resultWindow,  sigma = sigma )\n",
    "        resultWindow.gca().plot(trj[:,1], trj[:,2], \"-\", lw=0.7, c = \"green\")\n",
    "        resultWindow.gca().plot(trj[0,1], trj[0,2], \"o\",  c = \"yellow\")\n",
    "        resultWindow.gca().plot(trj[audioVecSize - 1,1], trj[audioVecSize - 1,2], \"x\",  c = \"red\")\n",
    "        resultWindow.gca().axis([-0.6, 0.6, -0.6, 0.6])\n",
    "        resultWindow.canvas.draw()\n",
    "\n",
    "\n",
    "# ---------------#\n",
    "# Create a slider for setting up the velocity\n",
    "axcolor = 'lightgoldenrodyellow'\n",
    "# Create sliders for sigma and dt. \n",
    "axSigma = plt.axes([0.1, 0.1, 0.8, 0.02], axisbg = axcolor)\n",
    "axDt = plt.axes([0.1, 0.06, 0.8, 0.02], axisbg = axcolor)\n",
    "axR = plt.axes([0.1, 0.02, 0.8, 0.02], axisbg = axcolor)\n",
    "axB1 = plt.axes([0.1, 0.13, 0.1, 0.075], axisbg = axcolor)\n",
    "axB2 = plt.axes([0.21, 0.13, 0.1, 0.075], axisbg = axcolor)\n",
    "\n",
    "ssigma = Slider(axSigma, \"Sigma\", 0.001, max_sigma, valinit=sigma, color='blue')\n",
    "sdt = Slider(axDt, \"dt\", 0.001, 0.01, valinit = dt, color = 'blue')\n",
    "sresistant = Slider(axR, \"r\", 0.99, 1.0, valinit = resistant, color = 'blue')\n",
    "\n",
    "choice = soundOption()\n",
    "\n",
    "b1 = Button(axB1, \"Velocity\")\n",
    "b1.on_clicked(choice.velocity)\n",
    "b2 = Button(axB2, \"Force\")\n",
    "b2.on_clicked(choice.force)\n",
    "\n",
    "\n",
    "ssigma.on_changed(sigmaUpdate)\n",
    "sdt.on_changed(sliderUpdate)\n",
    "sresistant.on_changed(sliderUpdate)\n",
    "resultWindow = figure(2, figsize=(8, 8))\n",
    "fig.canvas.mpl_connect('pick_event', on_pick)\n",
    "\n"
   ]
  },
  {
   "cell_type": "code",
   "execution_count": null,
   "metadata": {
    "collapsed": false
   },
   "outputs": [],
   "source": [
    "figure()\n",
    "plot(force)"
   ]
  },
  {
   "cell_type": "code",
   "execution_count": null,
   "metadata": {
    "collapsed": false
   },
   "outputs": [],
   "source": [
    "%pylab"
   ]
  },
  {
   "cell_type": "code",
   "execution_count": null,
   "metadata": {
    "collapsed": false
   },
   "outputs": [],
   "source": [
    "max_sigma"
   ]
  },
  {
   "cell_type": "code",
   "execution_count": null,
   "metadata": {
    "collapsed": false
   },
   "outputs": [],
   "source": [
    "force = force/np.max(np.absolute(force))"
   ]
  },
  {
   "cell_type": "code",
   "execution_count": null,
   "metadata": {
    "collapsed": false
   },
   "outputs": [],
   "source": [
    "np.max(np.absolute(force))"
   ]
  },
  {
   "cell_type": "code",
   "execution_count": 34,
   "metadata": {
    "collapsed": false
   },
   "outputs": [],
   "source": [
    "spectrum(velSound,fs)"
   ]
  },
  {
   "cell_type": "code",
   "execution_count": null,
   "metadata": {
    "collapsed": true
   },
   "outputs": [],
   "source": []
  }
 ],
 "metadata": {
  "kernelspec": {
   "display_name": "Python 2",
   "language": "python",
   "name": "python2"
  },
  "language_info": {
   "codemirror_mode": {
    "name": "ipython",
    "version": 2
   },
   "file_extension": ".py",
   "mimetype": "text/x-python",
   "name": "python",
   "nbconvert_exporter": "python",
   "pygments_lexer": "ipython2",
   "version": "2.7.10"
  }
 },
 "nbformat": 4,
 "nbformat_minor": 0
}
